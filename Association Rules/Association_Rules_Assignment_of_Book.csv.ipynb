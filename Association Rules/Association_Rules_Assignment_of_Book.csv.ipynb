{
 "cells": [
  {
   "cell_type": "code",
   "execution_count": 1,
   "id": "e5b0c943",
   "metadata": {},
   "outputs": [
    {
     "name": "stdout",
     "output_type": "stream",
     "text": [
      "Requirement already satisfied: mlxtend in c:\\users\\kamali\\anaconda3\\lib\\site-packages (0.19.0)\n",
      "Requirement already satisfied: pandas>=0.24.2 in c:\\users\\kamali\\anaconda3\\lib\\site-packages (from mlxtend) (1.2.4)\n",
      "Requirement already satisfied: scikit-learn>=0.20.3 in c:\\users\\kamali\\anaconda3\\lib\\site-packages (from mlxtend) (0.24.1)\n",
      "Requirement already satisfied: numpy>=1.16.2 in c:\\users\\kamali\\anaconda3\\lib\\site-packages (from mlxtend) (1.19.5)\n",
      "Requirement already satisfied: joblib>=0.13.2 in c:\\users\\kamali\\anaconda3\\lib\\site-packages (from mlxtend) (1.0.1)\n",
      "Requirement already satisfied: matplotlib>=3.0.0 in c:\\users\\kamali\\anaconda3\\lib\\site-packages (from mlxtend) (3.3.4)\n",
      "Requirement already satisfied: setuptools in c:\\users\\kamali\\anaconda3\\lib\\site-packages (from mlxtend) (52.0.0.post20210125)\n",
      "Requirement already satisfied: scipy>=1.2.1 in c:\\users\\kamali\\anaconda3\\lib\\site-packages (from mlxtend) (1.6.2)\n",
      "Requirement already satisfied: python-dateutil>=2.1 in c:\\users\\kamali\\anaconda3\\lib\\site-packages (from matplotlib>=3.0.0->mlxtend) (2.8.1)\n",
      "Requirement already satisfied: pillow>=6.2.0 in c:\\users\\kamali\\anaconda3\\lib\\site-packages (from matplotlib>=3.0.0->mlxtend) (8.2.0)\n",
      "Requirement already satisfied: kiwisolver>=1.0.1 in c:\\users\\kamali\\anaconda3\\lib\\site-packages (from matplotlib>=3.0.0->mlxtend) (1.3.1)\n",
      "Requirement already satisfied: cycler>=0.10 in c:\\users\\kamali\\anaconda3\\lib\\site-packages (from matplotlib>=3.0.0->mlxtend) (0.10.0)\n",
      "Requirement already satisfied: pyparsing!=2.0.4,!=2.1.2,!=2.1.6,>=2.0.3 in c:\\users\\kamali\\anaconda3\\lib\\site-packages (from matplotlib>=3.0.0->mlxtend) (2.4.7)\n",
      "Requirement already satisfied: six in c:\\users\\kamali\\anaconda3\\lib\\site-packages (from cycler>=0.10->matplotlib>=3.0.0->mlxtend) (1.15.0)\n",
      "Requirement already satisfied: pytz>=2017.3 in c:\\users\\kamali\\anaconda3\\lib\\site-packages (from pandas>=0.24.2->mlxtend) (2021.1)\n",
      "Requirement already satisfied: threadpoolctl>=2.0.0 in c:\\users\\kamali\\anaconda3\\lib\\site-packages (from scikit-learn>=0.20.3->mlxtend) (2.1.0)\n"
     ]
    }
   ],
   "source": [
    "!pip install mlxtend"
   ]
  },
  {
   "cell_type": "code",
   "execution_count": 2,
   "id": "345cf10d",
   "metadata": {},
   "outputs": [],
   "source": [
    "import pandas as pd\n",
    "import matplotlib.pyplot as plt\n",
    "import seaborn as sns"
   ]
  },
  {
   "cell_type": "code",
   "execution_count": 4,
   "id": "b6166217",
   "metadata": {},
   "outputs": [
    {
     "data": {
      "text/html": [
       "<div>\n",
       "<style scoped>\n",
       "    .dataframe tbody tr th:only-of-type {\n",
       "        vertical-align: middle;\n",
       "    }\n",
       "\n",
       "    .dataframe tbody tr th {\n",
       "        vertical-align: top;\n",
       "    }\n",
       "\n",
       "    .dataframe thead th {\n",
       "        text-align: right;\n",
       "    }\n",
       "</style>\n",
       "<table border=\"1\" class=\"dataframe\">\n",
       "  <thead>\n",
       "    <tr style=\"text-align: right;\">\n",
       "      <th></th>\n",
       "      <th>ChildBks</th>\n",
       "      <th>YouthBks</th>\n",
       "      <th>CookBks</th>\n",
       "      <th>DoItYBks</th>\n",
       "      <th>RefBks</th>\n",
       "      <th>ArtBks</th>\n",
       "      <th>GeogBks</th>\n",
       "      <th>ItalCook</th>\n",
       "      <th>ItalAtlas</th>\n",
       "      <th>ItalArt</th>\n",
       "      <th>Florence</th>\n",
       "    </tr>\n",
       "  </thead>\n",
       "  <tbody>\n",
       "    <tr>\n",
       "      <th>0</th>\n",
       "      <td>0</td>\n",
       "      <td>1</td>\n",
       "      <td>0</td>\n",
       "      <td>1</td>\n",
       "      <td>0</td>\n",
       "      <td>0</td>\n",
       "      <td>1</td>\n",
       "      <td>0</td>\n",
       "      <td>0</td>\n",
       "      <td>0</td>\n",
       "      <td>0</td>\n",
       "    </tr>\n",
       "    <tr>\n",
       "      <th>1</th>\n",
       "      <td>1</td>\n",
       "      <td>0</td>\n",
       "      <td>0</td>\n",
       "      <td>0</td>\n",
       "      <td>0</td>\n",
       "      <td>0</td>\n",
       "      <td>0</td>\n",
       "      <td>0</td>\n",
       "      <td>0</td>\n",
       "      <td>0</td>\n",
       "      <td>0</td>\n",
       "    </tr>\n",
       "    <tr>\n",
       "      <th>2</th>\n",
       "      <td>0</td>\n",
       "      <td>0</td>\n",
       "      <td>0</td>\n",
       "      <td>0</td>\n",
       "      <td>0</td>\n",
       "      <td>0</td>\n",
       "      <td>0</td>\n",
       "      <td>0</td>\n",
       "      <td>0</td>\n",
       "      <td>0</td>\n",
       "      <td>0</td>\n",
       "    </tr>\n",
       "    <tr>\n",
       "      <th>3</th>\n",
       "      <td>1</td>\n",
       "      <td>1</td>\n",
       "      <td>1</td>\n",
       "      <td>0</td>\n",
       "      <td>1</td>\n",
       "      <td>0</td>\n",
       "      <td>1</td>\n",
       "      <td>0</td>\n",
       "      <td>0</td>\n",
       "      <td>0</td>\n",
       "      <td>0</td>\n",
       "    </tr>\n",
       "    <tr>\n",
       "      <th>4</th>\n",
       "      <td>0</td>\n",
       "      <td>0</td>\n",
       "      <td>1</td>\n",
       "      <td>0</td>\n",
       "      <td>0</td>\n",
       "      <td>0</td>\n",
       "      <td>1</td>\n",
       "      <td>0</td>\n",
       "      <td>0</td>\n",
       "      <td>0</td>\n",
       "      <td>0</td>\n",
       "    </tr>\n",
       "    <tr>\n",
       "      <th>...</th>\n",
       "      <td>...</td>\n",
       "      <td>...</td>\n",
       "      <td>...</td>\n",
       "      <td>...</td>\n",
       "      <td>...</td>\n",
       "      <td>...</td>\n",
       "      <td>...</td>\n",
       "      <td>...</td>\n",
       "      <td>...</td>\n",
       "      <td>...</td>\n",
       "      <td>...</td>\n",
       "    </tr>\n",
       "    <tr>\n",
       "      <th>1995</th>\n",
       "      <td>0</td>\n",
       "      <td>0</td>\n",
       "      <td>1</td>\n",
       "      <td>0</td>\n",
       "      <td>0</td>\n",
       "      <td>1</td>\n",
       "      <td>1</td>\n",
       "      <td>1</td>\n",
       "      <td>0</td>\n",
       "      <td>1</td>\n",
       "      <td>1</td>\n",
       "    </tr>\n",
       "    <tr>\n",
       "      <th>1996</th>\n",
       "      <td>0</td>\n",
       "      <td>0</td>\n",
       "      <td>0</td>\n",
       "      <td>0</td>\n",
       "      <td>0</td>\n",
       "      <td>0</td>\n",
       "      <td>0</td>\n",
       "      <td>0</td>\n",
       "      <td>0</td>\n",
       "      <td>0</td>\n",
       "      <td>0</td>\n",
       "    </tr>\n",
       "    <tr>\n",
       "      <th>1997</th>\n",
       "      <td>0</td>\n",
       "      <td>0</td>\n",
       "      <td>0</td>\n",
       "      <td>0</td>\n",
       "      <td>0</td>\n",
       "      <td>0</td>\n",
       "      <td>0</td>\n",
       "      <td>0</td>\n",
       "      <td>0</td>\n",
       "      <td>0</td>\n",
       "      <td>0</td>\n",
       "    </tr>\n",
       "    <tr>\n",
       "      <th>1998</th>\n",
       "      <td>0</td>\n",
       "      <td>0</td>\n",
       "      <td>1</td>\n",
       "      <td>0</td>\n",
       "      <td>0</td>\n",
       "      <td>0</td>\n",
       "      <td>0</td>\n",
       "      <td>0</td>\n",
       "      <td>0</td>\n",
       "      <td>0</td>\n",
       "      <td>0</td>\n",
       "    </tr>\n",
       "    <tr>\n",
       "      <th>1999</th>\n",
       "      <td>0</td>\n",
       "      <td>0</td>\n",
       "      <td>0</td>\n",
       "      <td>0</td>\n",
       "      <td>0</td>\n",
       "      <td>0</td>\n",
       "      <td>0</td>\n",
       "      <td>0</td>\n",
       "      <td>0</td>\n",
       "      <td>0</td>\n",
       "      <td>0</td>\n",
       "    </tr>\n",
       "  </tbody>\n",
       "</table>\n",
       "<p>2000 rows × 11 columns</p>\n",
       "</div>"
      ],
      "text/plain": [
       "      ChildBks  YouthBks  CookBks  DoItYBks  RefBks  ArtBks  GeogBks  \\\n",
       "0            0         1        0         1       0       0        1   \n",
       "1            1         0        0         0       0       0        0   \n",
       "2            0         0        0         0       0       0        0   \n",
       "3            1         1        1         0       1       0        1   \n",
       "4            0         0        1         0       0       0        1   \n",
       "...        ...       ...      ...       ...     ...     ...      ...   \n",
       "1995         0         0        1         0       0       1        1   \n",
       "1996         0         0        0         0       0       0        0   \n",
       "1997         0         0        0         0       0       0        0   \n",
       "1998         0         0        1         0       0       0        0   \n",
       "1999         0         0        0         0       0       0        0   \n",
       "\n",
       "      ItalCook  ItalAtlas  ItalArt  Florence  \n",
       "0            0          0        0         0  \n",
       "1            0          0        0         0  \n",
       "2            0          0        0         0  \n",
       "3            0          0        0         0  \n",
       "4            0          0        0         0  \n",
       "...        ...        ...      ...       ...  \n",
       "1995         1          0        1         1  \n",
       "1996         0          0        0         0  \n",
       "1997         0          0        0         0  \n",
       "1998         0          0        0         0  \n",
       "1999         0          0        0         0  \n",
       "\n",
       "[2000 rows x 11 columns]"
      ]
     },
     "execution_count": 4,
     "metadata": {},
     "output_type": "execute_result"
    }
   ],
   "source": [
    "book_data = pd.read_csv('book (1).csv')\n",
    "book_data"
   ]
  },
  {
   "cell_type": "code",
   "execution_count": 5,
   "id": "fa4c5acd",
   "metadata": {},
   "outputs": [
    {
     "data": {
      "text/plain": [
       "(2000, 11)"
      ]
     },
     "execution_count": 5,
     "metadata": {},
     "output_type": "execute_result"
    }
   ],
   "source": [
    "book_data.shape"
   ]
  },
  {
   "cell_type": "code",
   "execution_count": 6,
   "id": "789ddaa3",
   "metadata": {},
   "outputs": [
    {
     "data": {
      "text/plain": [
       "ChildBks     0\n",
       "YouthBks     0\n",
       "CookBks      0\n",
       "DoItYBks     0\n",
       "RefBks       0\n",
       "ArtBks       0\n",
       "GeogBks      0\n",
       "ItalCook     0\n",
       "ItalAtlas    0\n",
       "ItalArt      0\n",
       "Florence     0\n",
       "dtype: int64"
      ]
     },
     "execution_count": 6,
     "metadata": {},
     "output_type": "execute_result"
    }
   ],
   "source": [
    "book_data.isnull().sum()"
   ]
  },
  {
   "cell_type": "code",
   "execution_count": 7,
   "id": "0fcfb66e",
   "metadata": {},
   "outputs": [
    {
     "data": {
      "text/plain": [
       "ChildBks     int64\n",
       "YouthBks     int64\n",
       "CookBks      int64\n",
       "DoItYBks     int64\n",
       "RefBks       int64\n",
       "ArtBks       int64\n",
       "GeogBks      int64\n",
       "ItalCook     int64\n",
       "ItalAtlas    int64\n",
       "ItalArt      int64\n",
       "Florence     int64\n",
       "dtype: object"
      ]
     },
     "execution_count": 7,
     "metadata": {},
     "output_type": "execute_result"
    }
   ],
   "source": [
    "book_data.dtypes"
   ]
  },
  {
   "cell_type": "markdown",
   "id": "fcec95f9",
   "metadata": {},
   "source": [
    "#### 1) For support value = 0.09 and confidence value = 0.1 and maximum value of item sets = 2"
   ]
  },
  {
   "cell_type": "code",
   "execution_count": 17,
   "id": "2ba249a7",
   "metadata": {},
   "outputs": [],
   "source": [
    "from mlxtend.frequent_patterns import apriori,association_rules"
   ]
  },
  {
   "cell_type": "code",
   "execution_count": 18,
   "id": "53afb8d7",
   "metadata": {},
   "outputs": [
    {
     "data": {
      "text/html": [
       "<div>\n",
       "<style scoped>\n",
       "    .dataframe tbody tr th:only-of-type {\n",
       "        vertical-align: middle;\n",
       "    }\n",
       "\n",
       "    .dataframe tbody tr th {\n",
       "        vertical-align: top;\n",
       "    }\n",
       "\n",
       "    .dataframe thead th {\n",
       "        text-align: right;\n",
       "    }\n",
       "</style>\n",
       "<table border=\"1\" class=\"dataframe\">\n",
       "  <thead>\n",
       "    <tr style=\"text-align: right;\">\n",
       "      <th></th>\n",
       "      <th>support</th>\n",
       "      <th>itemsets</th>\n",
       "    </tr>\n",
       "  </thead>\n",
       "  <tbody>\n",
       "    <tr>\n",
       "      <th>0</th>\n",
       "      <td>0.4230</td>\n",
       "      <td>(ChildBks)</td>\n",
       "    </tr>\n",
       "    <tr>\n",
       "      <th>1</th>\n",
       "      <td>0.2475</td>\n",
       "      <td>(YouthBks)</td>\n",
       "    </tr>\n",
       "    <tr>\n",
       "      <th>2</th>\n",
       "      <td>0.4310</td>\n",
       "      <td>(CookBks)</td>\n",
       "    </tr>\n",
       "    <tr>\n",
       "      <th>3</th>\n",
       "      <td>0.2820</td>\n",
       "      <td>(DoItYBks)</td>\n",
       "    </tr>\n",
       "    <tr>\n",
       "      <th>4</th>\n",
       "      <td>0.2145</td>\n",
       "      <td>(RefBks)</td>\n",
       "    </tr>\n",
       "  </tbody>\n",
       "</table>\n",
       "</div>"
      ],
      "text/plain": [
       "   support    itemsets\n",
       "0   0.4230  (ChildBks)\n",
       "1   0.2475  (YouthBks)\n",
       "2   0.4310   (CookBks)\n",
       "3   0.2820  (DoItYBks)\n",
       "4   0.2145    (RefBks)"
      ]
     },
     "execution_count": 18,
     "metadata": {},
     "output_type": "execute_result"
    }
   ],
   "source": [
    "frequent_items_set = apriori(df=book_data,min_support=0.09,use_colnames=True,max_len=2)\n",
    "frequent_items_set.head()"
   ]
  },
  {
   "cell_type": "code",
   "execution_count": 19,
   "id": "88861071",
   "metadata": {},
   "outputs": [],
   "source": [
    "association_rules = association_rules(df=frequent_items_set,metric = 'confidence',min_threshold=0.1)"
   ]
  },
  {
   "cell_type": "code",
   "execution_count": 20,
   "id": "1e4dcb2b",
   "metadata": {},
   "outputs": [
    {
     "data": {
      "text/plain": [
       "(42, 9)"
      ]
     },
     "execution_count": 20,
     "metadata": {},
     "output_type": "execute_result"
    }
   ],
   "source": [
    "association_rules.shape"
   ]
  },
  {
   "cell_type": "code",
   "execution_count": 21,
   "id": "10a2839d",
   "metadata": {},
   "outputs": [
    {
     "data": {
      "text/html": [
       "<div>\n",
       "<style scoped>\n",
       "    .dataframe tbody tr th:only-of-type {\n",
       "        vertical-align: middle;\n",
       "    }\n",
       "\n",
       "    .dataframe tbody tr th {\n",
       "        vertical-align: top;\n",
       "    }\n",
       "\n",
       "    .dataframe thead th {\n",
       "        text-align: right;\n",
       "    }\n",
       "</style>\n",
       "<table border=\"1\" class=\"dataframe\">\n",
       "  <thead>\n",
       "    <tr style=\"text-align: right;\">\n",
       "      <th></th>\n",
       "      <th>antecedents</th>\n",
       "      <th>consequents</th>\n",
       "      <th>antecedent support</th>\n",
       "      <th>consequent support</th>\n",
       "      <th>support</th>\n",
       "      <th>confidence</th>\n",
       "      <th>lift</th>\n",
       "      <th>leverage</th>\n",
       "      <th>conviction</th>\n",
       "    </tr>\n",
       "  </thead>\n",
       "  <tbody>\n",
       "    <tr>\n",
       "      <th>31</th>\n",
       "      <td>(CookBks)</td>\n",
       "      <td>(ItalCook)</td>\n",
       "      <td>0.4310</td>\n",
       "      <td>0.1135</td>\n",
       "      <td>0.1135</td>\n",
       "      <td>0.263341</td>\n",
       "      <td>2.320186</td>\n",
       "      <td>0.064582</td>\n",
       "      <td>1.203406</td>\n",
       "    </tr>\n",
       "    <tr>\n",
       "      <th>30</th>\n",
       "      <td>(ItalCook)</td>\n",
       "      <td>(CookBks)</td>\n",
       "      <td>0.1135</td>\n",
       "      <td>0.4310</td>\n",
       "      <td>0.1135</td>\n",
       "      <td>1.000000</td>\n",
       "      <td>2.320186</td>\n",
       "      <td>0.064582</td>\n",
       "      <td>inf</td>\n",
       "    </tr>\n",
       "    <tr>\n",
       "      <th>41</th>\n",
       "      <td>(GeogBks)</td>\n",
       "      <td>(ArtBks)</td>\n",
       "      <td>0.2760</td>\n",
       "      <td>0.2410</td>\n",
       "      <td>0.1275</td>\n",
       "      <td>0.461957</td>\n",
       "      <td>1.916832</td>\n",
       "      <td>0.060984</td>\n",
       "      <td>1.410667</td>\n",
       "    </tr>\n",
       "    <tr>\n",
       "      <th>40</th>\n",
       "      <td>(ArtBks)</td>\n",
       "      <td>(GeogBks)</td>\n",
       "      <td>0.2410</td>\n",
       "      <td>0.2760</td>\n",
       "      <td>0.1275</td>\n",
       "      <td>0.529046</td>\n",
       "      <td>1.916832</td>\n",
       "      <td>0.060984</td>\n",
       "      <td>1.537304</td>\n",
       "    </tr>\n",
       "    <tr>\n",
       "      <th>39</th>\n",
       "      <td>(GeogBks)</td>\n",
       "      <td>(RefBks)</td>\n",
       "      <td>0.2760</td>\n",
       "      <td>0.2145</td>\n",
       "      <td>0.1105</td>\n",
       "      <td>0.400362</td>\n",
       "      <td>1.866491</td>\n",
       "      <td>0.051298</td>\n",
       "      <td>1.309958</td>\n",
       "    </tr>\n",
       "  </tbody>\n",
       "</table>\n",
       "</div>"
      ],
      "text/plain": [
       "   antecedents consequents  antecedent support  consequent support  support  \\\n",
       "31   (CookBks)  (ItalCook)              0.4310              0.1135   0.1135   \n",
       "30  (ItalCook)   (CookBks)              0.1135              0.4310   0.1135   \n",
       "41   (GeogBks)    (ArtBks)              0.2760              0.2410   0.1275   \n",
       "40    (ArtBks)   (GeogBks)              0.2410              0.2760   0.1275   \n",
       "39   (GeogBks)    (RefBks)              0.2760              0.2145   0.1105   \n",
       "\n",
       "    confidence      lift  leverage  conviction  \n",
       "31    0.263341  2.320186  0.064582    1.203406  \n",
       "30    1.000000  2.320186  0.064582         inf  \n",
       "41    0.461957  1.916832  0.060984    1.410667  \n",
       "40    0.529046  1.916832  0.060984    1.537304  \n",
       "39    0.400362  1.866491  0.051298    1.309958  "
      ]
     },
     "execution_count": 21,
     "metadata": {},
     "output_type": "execute_result"
    }
   ],
   "source": [
    "association_rules.sort_values(by='lift',ascending=False,inplace=True)\n",
    "association_rules.head()"
   ]
  },
  {
   "cell_type": "markdown",
   "id": "24a22369",
   "metadata": {},
   "source": [
    "##### Observations:\n",
    "Total 42 association rules have been ruled out. The top 5 association rules with highest lift values states as follows:\n",
    "* Cookbooks and ItalCook are most likely to be bought together than just buying ItalCook alone.\n",
    "* ItalCook and CookBks are most likely to be bought together than just buying CookBks alone.\n",
    "* ArtBks and GeogBks are most likely to be bought together than just buying GeogBks alone.\n",
    "* GeogBks and ArtBks are most likely to be bought together than just buying ArtBks alone.\n",
    "* GeogBks and RefBks are most likely to be bought together than just buying ReBks alone."
   ]
  },
  {
   "cell_type": "code",
   "execution_count": 22,
   "id": "40f0ac5a",
   "metadata": {},
   "outputs": [
    {
     "data": {
      "image/png": "[encoded data removed]",
      "text/plain": [
       "<Figure size 432x288 with 1 Axes>"
      ]
     },
     "metadata": {
      "needs_background": "light"
     },
     "output_type": "display_data"
    }
   ],
   "source": [
    "plt.scatter(association_rules['support'],association_rules['confidence'],alpha=0.5)\n",
    "plt.xlabel('support')\n",
    "plt.ylabel('confidence')\n",
    "plt.title('Support vs Confidence')\n",
    "plt.show()"
   ]
  },
  {
   "cell_type": "code",
   "execution_count": 23,
   "id": "73549444",
   "metadata": {},
   "outputs": [
    {
     "data": {
      "text/plain": [
       "<AxesSubplot:xlabel='support', ylabel='confidence'>"
      ]
     },
     "execution_count": 23,
     "metadata": {},
     "output_type": "execute_result"
    },
    {
     "data": {
      "image/png": "[encoded data removed]",
      "text/plain": [
       "<Figure size 432x288 with 1 Axes>"
      ]
     },
     "metadata": {
      "needs_background": "light"
     },
     "output_type": "display_data"
    }
   ],
   "source": [
    "sns.barplot(x='support',y='confidence',data=association_rules)"
   ]
  },
  {
   "cell_type": "markdown",
   "id": "ae08f71f",
   "metadata": {},
   "source": [
    "#### 2) For support value = 0.1 and confidence = 0.2,maximum length  = 5"
   ]
  },
  {
   "cell_type": "code",
   "execution_count": 28,
   "id": "74fd8791",
   "metadata": {},
   "outputs": [
    {
     "data": {
      "text/html": [
       "<div>\n",
       "<style scoped>\n",
       "    .dataframe tbody tr th:only-of-type {\n",
       "        vertical-align: middle;\n",
       "    }\n",
       "\n",
       "    .dataframe tbody tr th {\n",
       "        vertical-align: top;\n",
       "    }\n",
       "\n",
       "    .dataframe thead th {\n",
       "        text-align: right;\n",
       "    }\n",
       "</style>\n",
       "<table border=\"1\" class=\"dataframe\">\n",
       "  <thead>\n",
       "    <tr style=\"text-align: right;\">\n",
       "      <th></th>\n",
       "      <th>support</th>\n",
       "      <th>itemsets</th>\n",
       "    </tr>\n",
       "  </thead>\n",
       "  <tbody>\n",
       "    <tr>\n",
       "      <th>0</th>\n",
       "      <td>0.4230</td>\n",
       "      <td>(ChildBks)</td>\n",
       "    </tr>\n",
       "    <tr>\n",
       "      <th>1</th>\n",
       "      <td>0.2475</td>\n",
       "      <td>(YouthBks)</td>\n",
       "    </tr>\n",
       "    <tr>\n",
       "      <th>2</th>\n",
       "      <td>0.4310</td>\n",
       "      <td>(CookBks)</td>\n",
       "    </tr>\n",
       "    <tr>\n",
       "      <th>3</th>\n",
       "      <td>0.2820</td>\n",
       "      <td>(DoItYBks)</td>\n",
       "    </tr>\n",
       "    <tr>\n",
       "      <th>4</th>\n",
       "      <td>0.2145</td>\n",
       "      <td>(RefBks)</td>\n",
       "    </tr>\n",
       "  </tbody>\n",
       "</table>\n",
       "</div>"
      ],
      "text/plain": [
       "   support    itemsets\n",
       "0   0.4230  (ChildBks)\n",
       "1   0.2475  (YouthBks)\n",
       "2   0.4310   (CookBks)\n",
       "3   0.2820  (DoItYBks)\n",
       "4   0.2145    (RefBks)"
      ]
     },
     "execution_count": 28,
     "metadata": {},
     "output_type": "execute_result"
    }
   ],
   "source": [
    "frequent_items_set1 = apriori(df=book_data,min_support=0.1,use_colnames=True,max_len=5)\n",
    "frequent_items_set1.head()"
   ]
  },
  {
   "cell_type": "code",
   "execution_count": 30,
   "id": "9aa62cb6",
   "metadata": {},
   "outputs": [
    {
     "data": {
      "text/html": [
       "<div>\n",
       "<style scoped>\n",
       "    .dataframe tbody tr th:only-of-type {\n",
       "        vertical-align: middle;\n",
       "    }\n",
       "\n",
       "    .dataframe tbody tr th {\n",
       "        vertical-align: top;\n",
       "    }\n",
       "\n",
       "    .dataframe thead th {\n",
       "        text-align: right;\n",
       "    }\n",
       "</style>\n",
       "<table border=\"1\" class=\"dataframe\">\n",
       "  <thead>\n",
       "    <tr style=\"text-align: right;\">\n",
       "      <th></th>\n",
       "      <th>antecedents</th>\n",
       "      <th>consequents</th>\n",
       "      <th>antecedent support</th>\n",
       "      <th>consequent support</th>\n",
       "      <th>support</th>\n",
       "      <th>confidence</th>\n",
       "      <th>lift</th>\n",
       "      <th>leverage</th>\n",
       "      <th>conviction</th>\n",
       "    </tr>\n",
       "  </thead>\n",
       "  <tbody>\n",
       "    <tr>\n",
       "      <th>29</th>\n",
       "      <td>(CookBks)</td>\n",
       "      <td>(ItalCook)</td>\n",
       "      <td>0.4310</td>\n",
       "      <td>0.1135</td>\n",
       "      <td>0.1135</td>\n",
       "      <td>0.263341</td>\n",
       "      <td>2.320186</td>\n",
       "      <td>0.064582</td>\n",
       "      <td>1.203406</td>\n",
       "    </tr>\n",
       "    <tr>\n",
       "      <th>28</th>\n",
       "      <td>(ItalCook)</td>\n",
       "      <td>(CookBks)</td>\n",
       "      <td>0.1135</td>\n",
       "      <td>0.4310</td>\n",
       "      <td>0.1135</td>\n",
       "      <td>1.000000</td>\n",
       "      <td>2.320186</td>\n",
       "      <td>0.064582</td>\n",
       "      <td>inf</td>\n",
       "    </tr>\n",
       "    <tr>\n",
       "      <th>77</th>\n",
       "      <td>(ArtBks, ChildBks)</td>\n",
       "      <td>(GeogBks)</td>\n",
       "      <td>0.1625</td>\n",
       "      <td>0.2760</td>\n",
       "      <td>0.1020</td>\n",
       "      <td>0.627692</td>\n",
       "      <td>2.274247</td>\n",
       "      <td>0.057150</td>\n",
       "      <td>1.944628</td>\n",
       "    </tr>\n",
       "    <tr>\n",
       "      <th>80</th>\n",
       "      <td>(GeogBks)</td>\n",
       "      <td>(ArtBks, ChildBks)</td>\n",
       "      <td>0.2760</td>\n",
       "      <td>0.1625</td>\n",
       "      <td>0.1020</td>\n",
       "      <td>0.369565</td>\n",
       "      <td>2.274247</td>\n",
       "      <td>0.057150</td>\n",
       "      <td>1.328448</td>\n",
       "    </tr>\n",
       "    <tr>\n",
       "      <th>85</th>\n",
       "      <td>(ArtBks)</td>\n",
       "      <td>(CookBks, DoItYBks)</td>\n",
       "      <td>0.2410</td>\n",
       "      <td>0.1875</td>\n",
       "      <td>0.1015</td>\n",
       "      <td>0.421162</td>\n",
       "      <td>2.246196</td>\n",
       "      <td>0.056313</td>\n",
       "      <td>1.403674</td>\n",
       "    </tr>\n",
       "  </tbody>\n",
       "</table>\n",
       "</div>"
      ],
      "text/plain": [
       "           antecedents          consequents  antecedent support  \\\n",
       "29           (CookBks)           (ItalCook)              0.4310   \n",
       "28          (ItalCook)            (CookBks)              0.1135   \n",
       "77  (ArtBks, ChildBks)            (GeogBks)              0.1625   \n",
       "80           (GeogBks)   (ArtBks, ChildBks)              0.2760   \n",
       "85            (ArtBks)  (CookBks, DoItYBks)              0.2410   \n",
       "\n",
       "    consequent support  support  confidence      lift  leverage  conviction  \n",
       "29              0.1135   0.1135    0.263341  2.320186  0.064582    1.203406  \n",
       "28              0.4310   0.1135    1.000000  2.320186  0.064582         inf  \n",
       "77              0.2760   0.1020    0.627692  2.274247  0.057150    1.944628  \n",
       "80              0.1625   0.1020    0.369565  2.274247  0.057150    1.328448  \n",
       "85              0.1875   0.1015    0.421162  2.246196  0.056313    1.403674  "
      ]
     },
     "execution_count": 30,
     "metadata": {},
     "output_type": "execute_result"
    }
   ],
   "source": [
    "from mlxtend.frequent_patterns import apriori,association_rules\n",
    "association_rules1 = association_rules(df=frequent_items_set1,metric = 'confidence',min_threshold=0.2)\n",
    "association_rules1.sort_values(by='lift',ascending=False,inplace=True)\n",
    "association_rules1.head()"
   ]
  },
  {
   "cell_type": "code",
   "execution_count": 31,
   "id": "c6e201a2",
   "metadata": {},
   "outputs": [
    {
     "data": {
      "text/plain": [
       "(100, 9)"
      ]
     },
     "execution_count": 31,
     "metadata": {},
     "output_type": "execute_result"
    }
   ],
   "source": [
    "association_rules1.shape"
   ]
  },
  {
   "cell_type": "markdown",
   "id": "525200f2",
   "metadata": {},
   "source": [
    "#### Observations:\n",
    "Total 100 association rules have been ruled out. The top 5 association rules with highest lift values states as follows:\n",
    "\n",
    "* Cookbooks and ItalCook are most likely to be bought together than just buying ItalCook alone.\n",
    "* ItalCook and CookBks are most likely to be bought together than just buying CookBks alone.\n",
    "* (ChildBks,ArtBks) and GeogBks are most likely to be bought together than just buying GeogBks \n",
    "  alone.\n",
    "* GeogBks and (ChildBks,ArtBks) are most likely to be bought together than just buying\n",
    "  (ChildBks,ArtBks) alone.\n",
    "* ArtBks and (DoltYBks,CookBks) are most likely to be bought together than just buying \n",
    "  (DoltYBks,CookBks) alone."
   ]
  },
  {
   "cell_type": "code",
   "execution_count": 33,
   "id": "120cdf84",
   "metadata": {},
   "outputs": [
    {
     "data": {
      "image/png": "[encoded data removed]",
      "text/plain": [
       "<Figure size 432x288 with 1 Axes>"
      ]
     },
     "metadata": {
      "needs_background": "light"
     },
     "output_type": "display_data"
    }
   ],
   "source": [
    "plt.scatter(association_rules1['support'],association_rules1['confidence'],alpha=0.5)\n",
    "plt.xlabel('support')\n",
    "plt.ylabel('confidence')\n",
    "plt.title('Support vs Confidence')\n",
    "plt.show()"
   ]
  },
  {
   "cell_type": "code",
   "execution_count": 34,
   "id": "d0dc55de",
   "metadata": {},
   "outputs": [
    {
     "data": {
      "text/plain": [
       "<AxesSubplot:xlabel='support', ylabel='confidence'>"
      ]
     },
     "execution_count": 34,
     "metadata": {},
     "output_type": "execute_result"
    },
    {
     "data": {
      "image/png": "[encoded data removed]",
      "text/plain": [
       "<Figure size 432x288 with 1 Axes>"
      ]
     },
     "metadata": {
      "needs_background": "light"
     },
     "output_type": "display_data"
    }
   ],
   "source": [
    "sns.barplot(x='support',y='confidence',data=association_rules1)"
   ]
  },
  {
   "cell_type": "markdown",
   "id": "eec033c2",
   "metadata": {},
   "source": [
    "#### 3) For support value = 0.05 and confidence value = 0.5 and maximum length of item sets = 3"
   ]
  },
  {
   "cell_type": "code",
   "execution_count": 35,
   "id": "fcbbdda4",
   "metadata": {},
   "outputs": [
    {
     "data": {
      "text/html": [
       "<div>\n",
       "<style scoped>\n",
       "    .dataframe tbody tr th:only-of-type {\n",
       "        vertical-align: middle;\n",
       "    }\n",
       "\n",
       "    .dataframe tbody tr th {\n",
       "        vertical-align: top;\n",
       "    }\n",
       "\n",
       "    .dataframe thead th {\n",
       "        text-align: right;\n",
       "    }\n",
       "</style>\n",
       "<table border=\"1\" class=\"dataframe\">\n",
       "  <thead>\n",
       "    <tr style=\"text-align: right;\">\n",
       "      <th></th>\n",
       "      <th>support</th>\n",
       "      <th>itemsets</th>\n",
       "    </tr>\n",
       "  </thead>\n",
       "  <tbody>\n",
       "    <tr>\n",
       "      <th>0</th>\n",
       "      <td>0.4230</td>\n",
       "      <td>(ChildBks)</td>\n",
       "    </tr>\n",
       "    <tr>\n",
       "      <th>1</th>\n",
       "      <td>0.2475</td>\n",
       "      <td>(YouthBks)</td>\n",
       "    </tr>\n",
       "    <tr>\n",
       "      <th>2</th>\n",
       "      <td>0.4310</td>\n",
       "      <td>(CookBks)</td>\n",
       "    </tr>\n",
       "    <tr>\n",
       "      <th>3</th>\n",
       "      <td>0.2820</td>\n",
       "      <td>(DoItYBks)</td>\n",
       "    </tr>\n",
       "    <tr>\n",
       "      <th>4</th>\n",
       "      <td>0.2145</td>\n",
       "      <td>(RefBks)</td>\n",
       "    </tr>\n",
       "  </tbody>\n",
       "</table>\n",
       "</div>"
      ],
      "text/plain": [
       "   support    itemsets\n",
       "0   0.4230  (ChildBks)\n",
       "1   0.2475  (YouthBks)\n",
       "2   0.4310   (CookBks)\n",
       "3   0.2820  (DoItYBks)\n",
       "4   0.2145    (RefBks)"
      ]
     },
     "execution_count": 35,
     "metadata": {},
     "output_type": "execute_result"
    }
   ],
   "source": [
    "frequent_items_set2 = apriori(df=book_data,min_support=0.05,use_colnames=True,max_len=3)\n",
    "frequent_items_set2.head()"
   ]
  },
  {
   "cell_type": "code",
   "execution_count": 36,
   "id": "f2425d7d",
   "metadata": {},
   "outputs": [
    {
     "data": {
      "text/html": [
       "<div>\n",
       "<style scoped>\n",
       "    .dataframe tbody tr th:only-of-type {\n",
       "        vertical-align: middle;\n",
       "    }\n",
       "\n",
       "    .dataframe tbody tr th {\n",
       "        vertical-align: top;\n",
       "    }\n",
       "\n",
       "    .dataframe thead th {\n",
       "        text-align: right;\n",
       "    }\n",
       "</style>\n",
       "<table border=\"1\" class=\"dataframe\">\n",
       "  <thead>\n",
       "    <tr style=\"text-align: right;\">\n",
       "      <th></th>\n",
       "      <th>antecedents</th>\n",
       "      <th>consequents</th>\n",
       "      <th>antecedent support</th>\n",
       "      <th>consequent support</th>\n",
       "      <th>support</th>\n",
       "      <th>confidence</th>\n",
       "      <th>lift</th>\n",
       "      <th>leverage</th>\n",
       "      <th>conviction</th>\n",
       "    </tr>\n",
       "  </thead>\n",
       "  <tbody>\n",
       "    <tr>\n",
       "      <th>80</th>\n",
       "      <td>(ItalCook)</td>\n",
       "      <td>(YouthBks, CookBks)</td>\n",
       "      <td>0.1135</td>\n",
       "      <td>0.1620</td>\n",
       "      <td>0.0590</td>\n",
       "      <td>0.519824</td>\n",
       "      <td>3.208789</td>\n",
       "      <td>0.040613</td>\n",
       "      <td>1.745193</td>\n",
       "    </tr>\n",
       "    <tr>\n",
       "      <th>114</th>\n",
       "      <td>(ItalCook)</td>\n",
       "      <td>(GeogBks, CookBks)</td>\n",
       "      <td>0.1135</td>\n",
       "      <td>0.1925</td>\n",
       "      <td>0.0640</td>\n",
       "      <td>0.563877</td>\n",
       "      <td>2.929229</td>\n",
       "      <td>0.042151</td>\n",
       "      <td>1.851540</td>\n",
       "    </tr>\n",
       "    <tr>\n",
       "      <th>50</th>\n",
       "      <td>(ItalCook)</td>\n",
       "      <td>(CookBks, ChildBks)</td>\n",
       "      <td>0.1135</td>\n",
       "      <td>0.2560</td>\n",
       "      <td>0.0850</td>\n",
       "      <td>0.748899</td>\n",
       "      <td>2.925385</td>\n",
       "      <td>0.055944</td>\n",
       "      <td>2.962947</td>\n",
       "    </tr>\n",
       "    <tr>\n",
       "      <th>104</th>\n",
       "      <td>(ItalCook)</td>\n",
       "      <td>(CookBks, DoItYBks)</td>\n",
       "      <td>0.1135</td>\n",
       "      <td>0.1875</td>\n",
       "      <td>0.0585</td>\n",
       "      <td>0.515419</td>\n",
       "      <td>2.748899</td>\n",
       "      <td>0.037219</td>\n",
       "      <td>1.676705</td>\n",
       "    </tr>\n",
       "    <tr>\n",
       "      <th>28</th>\n",
       "      <td>(YouthBks, ChildBks)</td>\n",
       "      <td>(RefBks)</td>\n",
       "      <td>0.1650</td>\n",
       "      <td>0.2145</td>\n",
       "      <td>0.0830</td>\n",
       "      <td>0.503030</td>\n",
       "      <td>2.345130</td>\n",
       "      <td>0.047608</td>\n",
       "      <td>1.580579</td>\n",
       "    </tr>\n",
       "  </tbody>\n",
       "</table>\n",
       "</div>"
      ],
      "text/plain": [
       "              antecedents          consequents  antecedent support  \\\n",
       "80             (ItalCook)  (YouthBks, CookBks)              0.1135   \n",
       "114            (ItalCook)   (GeogBks, CookBks)              0.1135   \n",
       "50             (ItalCook)  (CookBks, ChildBks)              0.1135   \n",
       "104            (ItalCook)  (CookBks, DoItYBks)              0.1135   \n",
       "28   (YouthBks, ChildBks)             (RefBks)              0.1650   \n",
       "\n",
       "     consequent support  support  confidence      lift  leverage  conviction  \n",
       "80               0.1620   0.0590    0.519824  3.208789  0.040613    1.745193  \n",
       "114              0.1925   0.0640    0.563877  2.929229  0.042151    1.851540  \n",
       "50               0.2560   0.0850    0.748899  2.925385  0.055944    2.962947  \n",
       "104              0.1875   0.0585    0.515419  2.748899  0.037219    1.676705  \n",
       "28               0.2145   0.0830    0.503030  2.345130  0.047608    1.580579  "
      ]
     },
     "execution_count": 36,
     "metadata": {},
     "output_type": "execute_result"
    }
   ],
   "source": [
    "from mlxtend.frequent_patterns import apriori,association_rules\n",
    "association_rules2 = association_rules(df=frequent_items_set2,metric = 'confidence',min_threshold=0.5)\n",
    "association_rules2.sort_values(by='lift',ascending=False,inplace=True)\n",
    "association_rules2.head()"
   ]
  },
  {
   "cell_type": "code",
   "execution_count": 37,
   "id": "76184ca1",
   "metadata": {},
   "outputs": [
    {
     "data": {
      "text/plain": [
       "(124, 9)"
      ]
     },
     "execution_count": 37,
     "metadata": {},
     "output_type": "execute_result"
    }
   ],
   "source": [
    "association_rules2.shape"
   ]
  },
  {
   "cell_type": "markdown",
   "id": "06dc04bb",
   "metadata": {},
   "source": [
    "##### Observations:\n",
    "Total 124 association rules have been ruled out. The top 5 association rules with highest lift values states as follows:\n",
    "* ItalCook and (YouthBks,CookBks)are most likely to be bought together than just buying \n",
    "  (YouthBks,CookBks) alone.\n",
    "* ItalCook and (CookBks,GeogBks) are most likely to be bought together than just buying\n",
    "  (CookBks,GeogBks) alone.\n",
    "* ItalCook and (ChildBks,CookBks) and GeogBks are most likely to be bought together than just \n",
    "  buying (ChildBks,CookBks)alone.\n",
    "* ItalCook and (DoltYBks,CookBks) are most likely to be bought together than just buying\n",
    "  (DoltYBks,CookBks)alone.\n",
    "* (ChildBks,YouthBks) and RefBks are most likely to be bought together than just buying\n",
    "  RefBks alone."
   ]
  },
  {
   "cell_type": "code",
   "execution_count": 38,
   "id": "fa1cde91",
   "metadata": {},
   "outputs": [
    {
     "data": {
      "image/png": "[encoded data removed]",
      "text/plain": [
       "<Figure size 432x288 with 1 Axes>"
      ]
     },
     "metadata": {
      "needs_background": "light"
     },
     "output_type": "display_data"
    }
   ],
   "source": [
    "plt.scatter(association_rules2['support'],association_rules2['confidence'],alpha=0.5)\n",
    "plt.xlabel('support')\n",
    "plt.ylabel('confidence')\n",
    "plt.title('Support vs Confidence')\n",
    "plt.show()"
   ]
  },
  {
   "cell_type": "code",
   "execution_count": 39,
   "id": "76a2d271",
   "metadata": {},
   "outputs": [
    {
     "data": {
      "text/plain": [
       "<AxesSubplot:xlabel='support', ylabel='confidence'>"
      ]
     },
     "execution_count": 39,
     "metadata": {},
     "output_type": "execute_result"
    },
    {
     "data": {
      "image/png": "[encoded data removed]",
      "text/plain": [
       "<Figure size 432x288 with 1 Axes>"
      ]
     },
     "metadata": {
      "needs_background": "light"
     },
     "output_type": "display_data"
    }
   ],
   "source": [
    "sns.barplot(x='support',y='confidence',data=association_rules2)"
   ]
  },
  {
   "cell_type": "markdown",
   "id": "8397569f",
   "metadata": {},
   "source": [
    "#### For support value = 0.02 and confidence value = 0.7 and maximum length of item sets = 10"
   ]
  },
  {
   "cell_type": "code",
   "execution_count": 40,
   "id": "6fe4b881",
   "metadata": {},
   "outputs": [
    {
     "data": {
      "text/html": [
       "<div>\n",
       "<style scoped>\n",
       "    .dataframe tbody tr th:only-of-type {\n",
       "        vertical-align: middle;\n",
       "    }\n",
       "\n",
       "    .dataframe tbody tr th {\n",
       "        vertical-align: top;\n",
       "    }\n",
       "\n",
       "    .dataframe thead th {\n",
       "        text-align: right;\n",
       "    }\n",
       "</style>\n",
       "<table border=\"1\" class=\"dataframe\">\n",
       "  <thead>\n",
       "    <tr style=\"text-align: right;\">\n",
       "      <th></th>\n",
       "      <th>support</th>\n",
       "      <th>itemsets</th>\n",
       "    </tr>\n",
       "  </thead>\n",
       "  <tbody>\n",
       "    <tr>\n",
       "      <th>0</th>\n",
       "      <td>0.4230</td>\n",
       "      <td>(ChildBks)</td>\n",
       "    </tr>\n",
       "    <tr>\n",
       "      <th>1</th>\n",
       "      <td>0.2475</td>\n",
       "      <td>(YouthBks)</td>\n",
       "    </tr>\n",
       "    <tr>\n",
       "      <th>2</th>\n",
       "      <td>0.4310</td>\n",
       "      <td>(CookBks)</td>\n",
       "    </tr>\n",
       "    <tr>\n",
       "      <th>3</th>\n",
       "      <td>0.2820</td>\n",
       "      <td>(DoItYBks)</td>\n",
       "    </tr>\n",
       "    <tr>\n",
       "      <th>4</th>\n",
       "      <td>0.2145</td>\n",
       "      <td>(RefBks)</td>\n",
       "    </tr>\n",
       "  </tbody>\n",
       "</table>\n",
       "</div>"
      ],
      "text/plain": [
       "   support    itemsets\n",
       "0   0.4230  (ChildBks)\n",
       "1   0.2475  (YouthBks)\n",
       "2   0.4310   (CookBks)\n",
       "3   0.2820  (DoItYBks)\n",
       "4   0.2145    (RefBks)"
      ]
     },
     "execution_count": 40,
     "metadata": {},
     "output_type": "execute_result"
    }
   ],
   "source": [
    "frequent_items_set3 = apriori(df=book_data,min_support=0.02,use_colnames=True,max_len=10)\n",
    "frequent_items_set3.head()"
   ]
  },
  {
   "cell_type": "code",
   "execution_count": 41,
   "id": "6aca3090",
   "metadata": {},
   "outputs": [
    {
     "data": {
      "text/html": [
       "<div>\n",
       "<style scoped>\n",
       "    .dataframe tbody tr th:only-of-type {\n",
       "        vertical-align: middle;\n",
       "    }\n",
       "\n",
       "    .dataframe tbody tr th {\n",
       "        vertical-align: top;\n",
       "    }\n",
       "\n",
       "    .dataframe thead th {\n",
       "        text-align: right;\n",
       "    }\n",
       "</style>\n",
       "<table border=\"1\" class=\"dataframe\">\n",
       "  <thead>\n",
       "    <tr style=\"text-align: right;\">\n",
       "      <th></th>\n",
       "      <th>antecedents</th>\n",
       "      <th>consequents</th>\n",
       "      <th>antecedent support</th>\n",
       "      <th>consequent support</th>\n",
       "      <th>support</th>\n",
       "      <th>confidence</th>\n",
       "      <th>lift</th>\n",
       "      <th>leverage</th>\n",
       "      <th>conviction</th>\n",
       "    </tr>\n",
       "  </thead>\n",
       "  <tbody>\n",
       "    <tr>\n",
       "      <th>333</th>\n",
       "      <td>(CookBks, ChildBks, ItalAtlas)</td>\n",
       "      <td>(RefBks, ItalCook)</td>\n",
       "      <td>0.0225</td>\n",
       "      <td>0.0465</td>\n",
       "      <td>0.0200</td>\n",
       "      <td>0.888889</td>\n",
       "      <td>19.115890</td>\n",
       "      <td>0.018954</td>\n",
       "      <td>8.581500</td>\n",
       "    </tr>\n",
       "    <tr>\n",
       "      <th>238</th>\n",
       "      <td>(CookBks, ItalAtlas)</td>\n",
       "      <td>(RefBks, ItalCook)</td>\n",
       "      <td>0.0285</td>\n",
       "      <td>0.0465</td>\n",
       "      <td>0.0230</td>\n",
       "      <td>0.807018</td>\n",
       "      <td>17.355216</td>\n",
       "      <td>0.021675</td>\n",
       "      <td>4.940864</td>\n",
       "    </tr>\n",
       "    <tr>\n",
       "      <th>372</th>\n",
       "      <td>(ItalArt, GeogBks, CookBks)</td>\n",
       "      <td>(ArtBks, ItalCook)</td>\n",
       "      <td>0.0250</td>\n",
       "      <td>0.0565</td>\n",
       "      <td>0.0240</td>\n",
       "      <td>0.960000</td>\n",
       "      <td>16.991150</td>\n",
       "      <td>0.022587</td>\n",
       "      <td>23.587500</td>\n",
       "    </tr>\n",
       "    <tr>\n",
       "      <th>336</th>\n",
       "      <td>(CookBks, ItalAtlas)</td>\n",
       "      <td>(RefBks, ItalCook, ChildBks)</td>\n",
       "      <td>0.0285</td>\n",
       "      <td>0.0415</td>\n",
       "      <td>0.0200</td>\n",
       "      <td>0.701754</td>\n",
       "      <td>16.909744</td>\n",
       "      <td>0.018817</td>\n",
       "      <td>3.213794</td>\n",
       "    </tr>\n",
       "    <tr>\n",
       "      <th>346</th>\n",
       "      <td>(ItalArt, CookBks, ChildBks)</td>\n",
       "      <td>(ArtBks, ItalCook)</td>\n",
       "      <td>0.0300</td>\n",
       "      <td>0.0565</td>\n",
       "      <td>0.0285</td>\n",
       "      <td>0.950000</td>\n",
       "      <td>16.814159</td>\n",
       "      <td>0.026805</td>\n",
       "      <td>18.870000</td>\n",
       "    </tr>\n",
       "  </tbody>\n",
       "</table>\n",
       "</div>"
      ],
      "text/plain": [
       "                        antecedents                   consequents  \\\n",
       "333  (CookBks, ChildBks, ItalAtlas)            (RefBks, ItalCook)   \n",
       "238            (CookBks, ItalAtlas)            (RefBks, ItalCook)   \n",
       "372     (ItalArt, GeogBks, CookBks)            (ArtBks, ItalCook)   \n",
       "336            (CookBks, ItalAtlas)  (RefBks, ItalCook, ChildBks)   \n",
       "346    (ItalArt, CookBks, ChildBks)            (ArtBks, ItalCook)   \n",
       "\n",
       "     antecedent support  consequent support  support  confidence       lift  \\\n",
       "333              0.0225              0.0465   0.0200    0.888889  19.115890   \n",
       "238              0.0285              0.0465   0.0230    0.807018  17.355216   \n",
       "372              0.0250              0.0565   0.0240    0.960000  16.991150   \n",
       "336              0.0285              0.0415   0.0200    0.701754  16.909744   \n",
       "346              0.0300              0.0565   0.0285    0.950000  16.814159   \n",
       "\n",
       "     leverage  conviction  \n",
       "333  0.018954    8.581500  \n",
       "238  0.021675    4.940864  \n",
       "372  0.022587   23.587500  \n",
       "336  0.018817    3.213794  \n",
       "346  0.026805   18.870000  "
      ]
     },
     "execution_count": 41,
     "metadata": {},
     "output_type": "execute_result"
    }
   ],
   "source": [
    "from mlxtend.frequent_patterns import apriori,association_rules\n",
    "association_rules3 = association_rules(df=frequent_items_set3,metric = 'confidence',min_threshold=0.7)\n",
    "association_rules3.sort_values(by='lift',ascending=False,inplace=True)\n",
    "association_rules3.head()"
   ]
  },
  {
   "cell_type": "code",
   "execution_count": 42,
   "id": "8eaccfab",
   "metadata": {},
   "outputs": [
    {
     "data": {
      "text/plain": [
       "(391, 9)"
      ]
     },
     "execution_count": 42,
     "metadata": {},
     "output_type": "execute_result"
    }
   ],
   "source": [
    "association_rules3.shape"
   ]
  },
  {
   "cell_type": "markdown",
   "id": "66e527de",
   "metadata": {},
   "source": [
    "##### Observations:\n",
    "Total 391 association rules have been ruled out. The top 5 association rules with highest lift values states as follows:\n",
    "\n",
    "* (CookBks, ChildBks, ItalAtlas) are most likely to be bought together than just buying (RefBks,\n",
    "  ItalCook) alone.\n",
    "* (CookBks, ItalAtlas) and (RefBks, ItalCook) are most likely to be bought together than just\n",
    "  buying (RefBks, ItalCook)\t alone.\n",
    "* (ItalArt, GeogBks, CookBks) and (ArtBks, ItalCook) are most likely to be bought together than   \n",
    "  just buying (ArtBks, ItalCook)alone.\n",
    "* (CookBks, ItalAtlas) and (RefBks, ItalCook, ChildBks) are most likely to be bought together  \n",
    "  than just buying (RefBks, ItalCook, ChildBks) alone.\n",
    "* (ItalArt, CookBks, ChildBks) and (ArtBks, ItalCook) are most likely to be bought together than \n",
    "   just buying (ArtBks, ItalCook) alone."
   ]
  },
  {
   "cell_type": "code",
   "execution_count": 43,
   "id": "b53df1c4",
   "metadata": {},
   "outputs": [
    {
     "data": {
      "image/png": "[encoded data removed]",
      "text/plain": [
       "<Figure size 432x288 with 1 Axes>"
      ]
     },
     "metadata": {
      "needs_background": "light"
     },
     "output_type": "display_data"
    }
   ],
   "source": [
    "plt.scatter(association_rules3['support'],association_rules3['confidence'],alpha=0.5)\n",
    "plt.xlabel('support')\n",
    "plt.ylabel('confidence')\n",
    "plt.title('Support vs Confidence')\n",
    "plt.show()"
   ]
  },
  {
   "cell_type": "code",
   "execution_count": 44,
   "id": "62cba2d6",
   "metadata": {},
   "outputs": [
    {
     "data": {
      "text/plain": [
       "<AxesSubplot:xlabel='support', ylabel='confidence'>"
      ]
     },
     "execution_count": 44,
     "metadata": {},
     "output_type": "execute_result"
    },
    {
     "data": {
      "image/png": "[encoded data removed]",
      "text/plain": [
       "<Figure size 432x288 with 1 Axes>"
      ]
     },
     "metadata": {
      "needs_background": "light"
     },
     "output_type": "display_data"
    }
   ],
   "source": [
    "sns.barplot(x='support',y='confidence',data=association_rules3)"
   ]
  },
  {
   "cell_type": "code",
   "execution_count": null,
   "id": "6a3beecc",
   "metadata": {},
   "outputs": [],
   "source": []
  }
 ],
 "metadata": {
  "kernelspec": {
   "display_name": "Python 3",
   "language": "python",
   "name": "python3"
  },
  "language_info": {
   "codemirror_mode": {
    "name": "ipython",
    "version": 3
   },
   "file_extension": ".py",
   "mimetype": "text/x-python",
   "name": "python",
   "nbconvert_exporter": "python",
   "pygments_lexer": "ipython3",
   "version": "3.8.8"
  }
 },
 "nbformat": 4,
 "nbformat_minor": 5
}
